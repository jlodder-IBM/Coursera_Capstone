{
    "cells": [
        {
            "cell_type": "markdown",
            "metadata": {},
            "source": "## Applied Data Science Capstone Project\n### Week 3 assignment: Toronto neighbourhoods segmentation and clustering"
        },
        {
            "cell_type": "code",
            "execution_count": 1,
            "metadata": {},
            "outputs": [],
            "source": "# Import libraries\nimport pandas as pd\nimport numpy as np\nimport requests\nfrom bs4 import BeautifulSoup"
        },
        {
            "cell_type": "markdown",
            "metadata": {},
            "source": "Set wikipedia URL and pull data into \"soup\""
        },
        {
            "cell_type": "code",
            "execution_count": 2,
            "metadata": {},
            "outputs": [],
            "source": "wiki = \"https://en.wikipedia.org/wiki/List_of_postal_codes_of_Canada:_M\"\nwebsite_url = requests.get(wiki).text\nsoup = BeautifulSoup(website_url,'lxml')\n# print(wiki)\n# print(soup)\n"
        },
        {
            "cell_type": "markdown",
            "metadata": {},
            "source": "Initialise the list for the table data and put the table data in there\n\nAfterwards, parse the row data into the list (excl. headers). \nHeaders go in a separate list to assign column names to the dataframe (later on)."
        },
        {
            "cell_type": "code",
            "execution_count": 7,
            "metadata": {},
            "outputs": [],
            "source": "wiki_data = []\nwiki_table = soup.find('table', attrs={'class':'wikitable'})\nwiki_body = wiki_table.find('tbody')\n\n# Make a list of the table headers for the dataframe (later on)\nwiki_headers = wiki_body.find_all('th')\nwiki_headers = [ele.text.strip() for ele in wiki_headers]\n\n# Put all the table data (excl. headers) into \"wiki_data\"\nwiki_rows = wiki_body.find_all('tr')\nfor row in wiki_rows:\n    cols = row.find_all('td')\n    cols = [ele.text.strip() for ele in cols]\n    wiki_data.append([ele for ele in cols if ele]) # Get rid of empty values\n# print(wiki_headers)\n# print(data)"
        },
        {
            "cell_type": "markdown",
            "metadata": {},
            "source": "Convert table data into dataframe, with wiki_headers as column names\nClean up dataframe to remove NaN's"
        },
        {
            "cell_type": "code",
            "execution_count": 9,
            "metadata": {},
            "outputs": [
                {
                    "name": "stdout",
                    "output_type": "stream",
                    "text": "Empty DataFrame\nColumns: [Postal Code, Borough, Neighborhood]\nIndex: []\n"
                },
                {
                    "data": {
                        "text/html": "<div>\n<style scoped>\n    .dataframe tbody tr th:only-of-type {\n        vertical-align: middle;\n    }\n\n    .dataframe tbody tr th {\n        vertical-align: top;\n    }\n\n    .dataframe thead th {\n        text-align: right;\n    }\n</style>\n<table border=\"1\" class=\"dataframe\">\n  <thead>\n    <tr style=\"text-align: right;\">\n      <th></th>\n      <th>Postal Code</th>\n      <th>Borough</th>\n      <th>Neighborhood</th>\n    </tr>\n  </thead>\n  <tbody>\n    <tr>\n      <th>3</th>\n      <td>M3A</td>\n      <td>North York</td>\n      <td>Parkwoods</td>\n    </tr>\n    <tr>\n      <th>4</th>\n      <td>M4A</td>\n      <td>North York</td>\n      <td>Victoria Village</td>\n    </tr>\n    <tr>\n      <th>5</th>\n      <td>M5A</td>\n      <td>Downtown Toronto</td>\n      <td>Regent Park, Harbourfront</td>\n    </tr>\n    <tr>\n      <th>6</th>\n      <td>M6A</td>\n      <td>North York</td>\n      <td>Lawrence Manor, Lawrence Heights</td>\n    </tr>\n    <tr>\n      <th>7</th>\n      <td>M7A</td>\n      <td>Downtown Toronto</td>\n      <td>Queen's Park, Ontario Provincial Government</td>\n    </tr>\n    <tr>\n      <th>9</th>\n      <td>M9A</td>\n      <td>Etobicoke</td>\n      <td>Islington Avenue, Humber Valley Village</td>\n    </tr>\n    <tr>\n      <th>10</th>\n      <td>M1B</td>\n      <td>Scarborough</td>\n      <td>Malvern, Rouge</td>\n    </tr>\n    <tr>\n      <th>12</th>\n      <td>M3B</td>\n      <td>North York</td>\n      <td>Don Mills</td>\n    </tr>\n    <tr>\n      <th>13</th>\n      <td>M4B</td>\n      <td>East York</td>\n      <td>Parkview Hill, Woodbine Gardens</td>\n    </tr>\n    <tr>\n      <th>14</th>\n      <td>M5B</td>\n      <td>Downtown Toronto</td>\n      <td>Garden District, Ryerson</td>\n    </tr>\n    <tr>\n      <th>15</th>\n      <td>M6B</td>\n      <td>North York</td>\n      <td>Glencairn</td>\n    </tr>\n    <tr>\n      <th>18</th>\n      <td>M9B</td>\n      <td>Etobicoke</td>\n      <td>West Deane Park, Princess Gardens, Martin Grov...</td>\n    </tr>\n    <tr>\n      <th>19</th>\n      <td>M1C</td>\n      <td>Scarborough</td>\n      <td>Rouge Hill, Port Union, Highland Creek</td>\n    </tr>\n    <tr>\n      <th>21</th>\n      <td>M3C</td>\n      <td>North York</td>\n      <td>Don Mills</td>\n    </tr>\n    <tr>\n      <th>22</th>\n      <td>M4C</td>\n      <td>East York</td>\n      <td>Woodbine Heights</td>\n    </tr>\n    <tr>\n      <th>23</th>\n      <td>M5C</td>\n      <td>Downtown Toronto</td>\n      <td>St. James Town</td>\n    </tr>\n    <tr>\n      <th>24</th>\n      <td>M6C</td>\n      <td>York</td>\n      <td>Humewood-Cedarvale</td>\n    </tr>\n    <tr>\n      <th>27</th>\n      <td>M9C</td>\n      <td>Etobicoke</td>\n      <td>Eringate, Bloordale Gardens, Old Burnhamthorpe...</td>\n    </tr>\n    <tr>\n      <th>28</th>\n      <td>M1E</td>\n      <td>Scarborough</td>\n      <td>Guildwood, Morningside, West Hill</td>\n    </tr>\n    <tr>\n      <th>31</th>\n      <td>M4E</td>\n      <td>East Toronto</td>\n      <td>The Beaches</td>\n    </tr>\n    <tr>\n      <th>32</th>\n      <td>M5E</td>\n      <td>Downtown Toronto</td>\n      <td>Berczy Park</td>\n    </tr>\n    <tr>\n      <th>33</th>\n      <td>M6E</td>\n      <td>York</td>\n      <td>Caledonia-Fairbanks</td>\n    </tr>\n    <tr>\n      <th>37</th>\n      <td>M1G</td>\n      <td>Scarborough</td>\n      <td>Woburn</td>\n    </tr>\n    <tr>\n      <th>40</th>\n      <td>M4G</td>\n      <td>East York</td>\n      <td>Leaside</td>\n    </tr>\n    <tr>\n      <th>41</th>\n      <td>M5G</td>\n      <td>Downtown Toronto</td>\n      <td>Central Bay Street</td>\n    </tr>\n    <tr>\n      <th>42</th>\n      <td>M6G</td>\n      <td>Downtown Toronto</td>\n      <td>Christie</td>\n    </tr>\n    <tr>\n      <th>46</th>\n      <td>M1H</td>\n      <td>Scarborough</td>\n      <td>Cedarbrae</td>\n    </tr>\n    <tr>\n      <th>47</th>\n      <td>M2H</td>\n      <td>North York</td>\n      <td>Hillcrest Village</td>\n    </tr>\n    <tr>\n      <th>48</th>\n      <td>M3H</td>\n      <td>North York</td>\n      <td>Bathurst Manor, Wilson Heights, Downsview North</td>\n    </tr>\n    <tr>\n      <th>49</th>\n      <td>M4H</td>\n      <td>East York</td>\n      <td>Thorncliffe Park</td>\n    </tr>\n    <tr>\n      <th>...</th>\n      <td>...</td>\n      <td>...</td>\n      <td>...</td>\n    </tr>\n    <tr>\n      <th>112</th>\n      <td>M4R</td>\n      <td>Central Toronto</td>\n      <td>North Toronto West,  Lawrence Park</td>\n    </tr>\n    <tr>\n      <th>113</th>\n      <td>M5R</td>\n      <td>Central Toronto</td>\n      <td>The Annex, North Midtown, Yorkville</td>\n    </tr>\n    <tr>\n      <th>114</th>\n      <td>M6R</td>\n      <td>West Toronto</td>\n      <td>Parkdale, Roncesvalles</td>\n    </tr>\n    <tr>\n      <th>115</th>\n      <td>M7R</td>\n      <td>Mississauga</td>\n      <td>Canada Post Gateway Processing Centre</td>\n    </tr>\n    <tr>\n      <th>117</th>\n      <td>M9R</td>\n      <td>Etobicoke</td>\n      <td>Kingsview Village, St. Phillips, Martin Grove ...</td>\n    </tr>\n    <tr>\n      <th>118</th>\n      <td>M1S</td>\n      <td>Scarborough</td>\n      <td>Agincourt</td>\n    </tr>\n    <tr>\n      <th>121</th>\n      <td>M4S</td>\n      <td>Central Toronto</td>\n      <td>Davisville</td>\n    </tr>\n    <tr>\n      <th>122</th>\n      <td>M5S</td>\n      <td>Downtown Toronto</td>\n      <td>University of Toronto, Harbord</td>\n    </tr>\n    <tr>\n      <th>123</th>\n      <td>M6S</td>\n      <td>West Toronto</td>\n      <td>Runnymede, Swansea</td>\n    </tr>\n    <tr>\n      <th>127</th>\n      <td>M1T</td>\n      <td>Scarborough</td>\n      <td>Clarks Corners, Tam O'Shanter, Sullivan</td>\n    </tr>\n    <tr>\n      <th>130</th>\n      <td>M4T</td>\n      <td>Central Toronto</td>\n      <td>Moore Park, Summerhill East</td>\n    </tr>\n    <tr>\n      <th>131</th>\n      <td>M5T</td>\n      <td>Downtown Toronto</td>\n      <td>Kensington Market, Chinatown, Grange Park</td>\n    </tr>\n    <tr>\n      <th>136</th>\n      <td>M1V</td>\n      <td>Scarborough</td>\n      <td>Milliken, Agincourt North, Steeles East, L'Amo...</td>\n    </tr>\n    <tr>\n      <th>139</th>\n      <td>M4V</td>\n      <td>Central Toronto</td>\n      <td>Summerhill West, Rathnelly, South Hill, Forest...</td>\n    </tr>\n    <tr>\n      <th>140</th>\n      <td>M5V</td>\n      <td>Downtown Toronto</td>\n      <td>CN Tower, King and Spadina, Railway Lands, Har...</td>\n    </tr>\n    <tr>\n      <th>143</th>\n      <td>M8V</td>\n      <td>Etobicoke</td>\n      <td>New Toronto, Mimico South, Humber Bay Shores</td>\n    </tr>\n    <tr>\n      <th>144</th>\n      <td>M9V</td>\n      <td>Etobicoke</td>\n      <td>South Steeles, Silverstone, Humbergate, Jamest...</td>\n    </tr>\n    <tr>\n      <th>145</th>\n      <td>M1W</td>\n      <td>Scarborough</td>\n      <td>Steeles West, L'Amoreaux West</td>\n    </tr>\n    <tr>\n      <th>148</th>\n      <td>M4W</td>\n      <td>Downtown Toronto</td>\n      <td>Rosedale</td>\n    </tr>\n    <tr>\n      <th>149</th>\n      <td>M5W</td>\n      <td>Downtown Toronto</td>\n      <td>Stn A PO Boxes</td>\n    </tr>\n    <tr>\n      <th>152</th>\n      <td>M8W</td>\n      <td>Etobicoke</td>\n      <td>Alderwood, Long Branch</td>\n    </tr>\n    <tr>\n      <th>153</th>\n      <td>M9W</td>\n      <td>Etobicoke</td>\n      <td>Northwest, West Humber - Clairville</td>\n    </tr>\n    <tr>\n      <th>154</th>\n      <td>M1X</td>\n      <td>Scarborough</td>\n      <td>Upper Rouge</td>\n    </tr>\n    <tr>\n      <th>157</th>\n      <td>M4X</td>\n      <td>Downtown Toronto</td>\n      <td>St. James Town, Cabbagetown</td>\n    </tr>\n    <tr>\n      <th>158</th>\n      <td>M5X</td>\n      <td>Downtown Toronto</td>\n      <td>First Canadian Place, Underground city</td>\n    </tr>\n    <tr>\n      <th>161</th>\n      <td>M8X</td>\n      <td>Etobicoke</td>\n      <td>The Kingsway, Montgomery Road, Old Mill North</td>\n    </tr>\n    <tr>\n      <th>166</th>\n      <td>M4Y</td>\n      <td>Downtown Toronto</td>\n      <td>Church and Wellesley</td>\n    </tr>\n    <tr>\n      <th>169</th>\n      <td>M7Y</td>\n      <td>East Toronto</td>\n      <td>Business reply mail Processing Centre, South C...</td>\n    </tr>\n    <tr>\n      <th>170</th>\n      <td>M8Y</td>\n      <td>Etobicoke</td>\n      <td>Old Mill South, King's Mill Park, Sunnylea, Hu...</td>\n    </tr>\n    <tr>\n      <th>179</th>\n      <td>M8Z</td>\n      <td>Etobicoke</td>\n      <td>Mimico NW, The Queensway West, South of Bloor,...</td>\n    </tr>\n  </tbody>\n</table>\n<p>103 rows \u00d7 3 columns</p>\n</div>",
                        "text/plain": "    Postal Code           Borough  \\\n3           M3A        North York   \n4           M4A        North York   \n5           M5A  Downtown Toronto   \n6           M6A        North York   \n7           M7A  Downtown Toronto   \n9           M9A         Etobicoke   \n10          M1B       Scarborough   \n12          M3B        North York   \n13          M4B         East York   \n14          M5B  Downtown Toronto   \n15          M6B        North York   \n18          M9B         Etobicoke   \n19          M1C       Scarborough   \n21          M3C        North York   \n22          M4C         East York   \n23          M5C  Downtown Toronto   \n24          M6C              York   \n27          M9C         Etobicoke   \n28          M1E       Scarborough   \n31          M4E      East Toronto   \n32          M5E  Downtown Toronto   \n33          M6E              York   \n37          M1G       Scarborough   \n40          M4G         East York   \n41          M5G  Downtown Toronto   \n42          M6G  Downtown Toronto   \n46          M1H       Scarborough   \n47          M2H        North York   \n48          M3H        North York   \n49          M4H         East York   \n..          ...               ...   \n112         M4R   Central Toronto   \n113         M5R   Central Toronto   \n114         M6R      West Toronto   \n115         M7R       Mississauga   \n117         M9R         Etobicoke   \n118         M1S       Scarborough   \n121         M4S   Central Toronto   \n122         M5S  Downtown Toronto   \n123         M6S      West Toronto   \n127         M1T       Scarborough   \n130         M4T   Central Toronto   \n131         M5T  Downtown Toronto   \n136         M1V       Scarborough   \n139         M4V   Central Toronto   \n140         M5V  Downtown Toronto   \n143         M8V         Etobicoke   \n144         M9V         Etobicoke   \n145         M1W       Scarborough   \n148         M4W  Downtown Toronto   \n149         M5W  Downtown Toronto   \n152         M8W         Etobicoke   \n153         M9W         Etobicoke   \n154         M1X       Scarborough   \n157         M4X  Downtown Toronto   \n158         M5X  Downtown Toronto   \n161         M8X         Etobicoke   \n166         M4Y  Downtown Toronto   \n169         M7Y      East Toronto   \n170         M8Y         Etobicoke   \n179         M8Z         Etobicoke   \n\n                                          Neighborhood  \n3                                            Parkwoods  \n4                                     Victoria Village  \n5                            Regent Park, Harbourfront  \n6                     Lawrence Manor, Lawrence Heights  \n7          Queen's Park, Ontario Provincial Government  \n9              Islington Avenue, Humber Valley Village  \n10                                      Malvern, Rouge  \n12                                           Don Mills  \n13                     Parkview Hill, Woodbine Gardens  \n14                            Garden District, Ryerson  \n15                                           Glencairn  \n18   West Deane Park, Princess Gardens, Martin Grov...  \n19              Rouge Hill, Port Union, Highland Creek  \n21                                           Don Mills  \n22                                    Woodbine Heights  \n23                                      St. James Town  \n24                                  Humewood-Cedarvale  \n27   Eringate, Bloordale Gardens, Old Burnhamthorpe...  \n28                   Guildwood, Morningside, West Hill  \n31                                         The Beaches  \n32                                         Berczy Park  \n33                                 Caledonia-Fairbanks  \n37                                              Woburn  \n40                                             Leaside  \n41                                  Central Bay Street  \n42                                            Christie  \n46                                           Cedarbrae  \n47                                   Hillcrest Village  \n48     Bathurst Manor, Wilson Heights, Downsview North  \n49                                    Thorncliffe Park  \n..                                                 ...  \n112                 North Toronto West,  Lawrence Park  \n113                The Annex, North Midtown, Yorkville  \n114                             Parkdale, Roncesvalles  \n115              Canada Post Gateway Processing Centre  \n117  Kingsview Village, St. Phillips, Martin Grove ...  \n118                                          Agincourt  \n121                                         Davisville  \n122                     University of Toronto, Harbord  \n123                                 Runnymede, Swansea  \n127            Clarks Corners, Tam O'Shanter, Sullivan  \n130                        Moore Park, Summerhill East  \n131          Kensington Market, Chinatown, Grange Park  \n136  Milliken, Agincourt North, Steeles East, L'Amo...  \n139  Summerhill West, Rathnelly, South Hill, Forest...  \n140  CN Tower, King and Spadina, Railway Lands, Har...  \n143       New Toronto, Mimico South, Humber Bay Shores  \n144  South Steeles, Silverstone, Humbergate, Jamest...  \n145                      Steeles West, L'Amoreaux West  \n148                                           Rosedale  \n149                                     Stn A PO Boxes  \n152                             Alderwood, Long Branch  \n153                Northwest, West Humber - Clairville  \n154                                        Upper Rouge  \n157                        St. James Town, Cabbagetown  \n158             First Canadian Place, Underground city  \n161      The Kingsway, Montgomery Road, Old Mill North  \n166                               Church and Wellesley  \n169  Business reply mail Processing Centre, South C...  \n170  Old Mill South, King's Mill Park, Sunnylea, Hu...  \n179  Mimico NW, The Queensway West, South of Bloor,...  \n\n[103 rows x 3 columns]"
                    },
                    "execution_count": 9,
                    "metadata": {},
                    "output_type": "execute_result"
                }
            ],
            "source": "# Create dataframe\ndf_nhood = pd.DataFrame(wiki_data, columns=wiki_headers)\n# Replace \"Not assigned\" with \"None\" (same as NaN)\ndf_nhood.replace({'Not assigned': None}, inplace=True)\n# Remove all lines where \"Borough\" is NaN\ndf_nhood = df_nhood[df_nhood['Borough'].notna()]\n\n# Check if there are any lines with NaN left (i.e. in neighbourhood)\nis_NaN = df_nhood.isnull()\nrow_has_NaN = is_NaN.any(axis=1)\nrows_with_NaN = df_nhood[row_has_NaN]\n\n# print results - there are none\nprint(rows_with_NaN)\n\n# show dataframe, no NaN's left.\ndf_nhood"
        },
        {
            "cell_type": "code",
            "execution_count": 10,
            "metadata": {},
            "outputs": [
                {
                    "data": {
                        "text/plain": "(103, 3)"
                    },
                    "execution_count": 10,
                    "metadata": {},
                    "output_type": "execute_result"
                }
            ],
            "source": "# show shape of dataframe\ndf_nhood.shape"
        },
        {
            "cell_type": "code",
            "execution_count": null,
            "metadata": {},
            "outputs": [],
            "source": ""
        }
    ],
    "metadata": {
        "kernelspec": {
            "display_name": "Python 3.6",
            "language": "python",
            "name": "python3"
        },
        "language_info": {
            "codemirror_mode": {
                "name": "ipython",
                "version": 3
            },
            "file_extension": ".py",
            "mimetype": "text/x-python",
            "name": "python",
            "nbconvert_exporter": "python",
            "pygments_lexer": "ipython3",
            "version": "3.6.9"
        }
    },
    "nbformat": 4,
    "nbformat_minor": 1
}