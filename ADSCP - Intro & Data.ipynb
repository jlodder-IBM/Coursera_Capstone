{
    "cells": [
        {
            "cell_type": "markdown",
            "metadata": {
                "collapsed": true
            },
            "source": "# Applied Data Science - Capstone Project\n\n# Introduction & Data"
        },
        {
            "cell_type": "markdown",
            "metadata": {},
            "source": "\n\n## Business relocation from Manhattan to Toronto\n"
        },
        {
            "cell_type": "markdown",
            "metadata": {},
            "source": "### Introduction"
        },
        {
            "cell_type": "markdown",
            "metadata": {},
            "source": "Jane Doe, 55 years old and owner of an Italian restaurant in Manhattan, is looking to sell her highly successful shop in Soho, Manhattan and open a new one in Toronto, where her extended family lives. Additionally, as (in her words) she is \"no longer a spring chicken\" she would prefer to to open up shop outside the central Toronto area, closer to (or even in) the suburbs where she is looking to buy her new house.\n\nShe did state, however, that if at all possible she would like to open up her business in an area with a similar \"feel\" to Soho, but if at all possible with as little as possible competition."
        },
        {
            "cell_type": "markdown",
            "metadata": {},
            "source": "### Data"
        },
        {
            "cell_type": "markdown",
            "metadata": {},
            "source": "First we will define the criteria based on Jane Doe's preferences:\n1. Little competition: Few Italian restaurants and/or with low review scores\n2. Similar to Soho (Manhattan), NYC: Similar venues\n3. Outside central Toronto area: Excluding Boroughs with \"Toronto\" in the name\n\nThe data required will be retrieved from the following sources:\n1. Neighbourhood locations: csv files produced in the earlier assignments of the course\n2. Venues by neighbourhood (Soho, Manhattan and Toronto) + review scores, retrieved from Foursquare\n\nOnce the data is processed we will:\n1. Compare the neighbourhoods in Toronto to Soho (Manhattan), NYC and find the closest matches\n2. Determine the Toronto neighbourhoods with fewest Italian restaurants, weighted based on the review scores\n3. Normalise both results and plot the two groups against each other to find the best match(es)."
        }
    ],
    "metadata": {
        "kernelspec": {
            "display_name": "Python 3.6",
            "language": "python",
            "name": "python3"
        },
        "language_info": {
            "codemirror_mode": {
                "name": "ipython",
                "version": 3
            },
            "file_extension": ".py",
            "mimetype": "text/x-python",
            "name": "python",
            "nbconvert_exporter": "python",
            "pygments_lexer": "ipython3",
            "version": "3.6.9"
        }
    },
    "nbformat": 4,
    "nbformat_minor": 1
}