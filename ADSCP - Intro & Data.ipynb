{
    "cells": [
        {
            "cell_type": "markdown",
            "metadata": {
                "collapsed": true
            },
            "source": "# Applied Data Science - Capstone Project\n\n# Introduction & Data"
        },
        {
            "cell_type": "markdown",
            "metadata": {},
            "source": "\n\n## Business relocation from Manhattan to Toronto\n"
        },
        {
            "cell_type": "markdown",
            "metadata": {},
            "source": "### Introduction"
        },
        {
            "cell_type": "markdown",
            "metadata": {},
            "source": "Jane Doe, 55 years old and owner of a coffee shop in Manhattan, is tired of the Big Apple and looking to sell her highly successful shop in Soho and open a new one in Toronto, where her extended family lives. \n\nAs she loves the hussle and bussle of the big city she wants to open up shop in the central area of Toronto, in a neighbourhood with a similar \"feel\" to Soho. However, with as many coffee shops as there are in Toronto, it is important to find a neighbourhood with as little competition as possible."
        },
        {
            "cell_type": "markdown",
            "metadata": {},
            "source": "#### Target"
        },
        {
            "cell_type": "markdown",
            "metadata": {},
            "source": "Our target is Jane Doe, and this project is of interest specifically to her, although could also be relevant for anyone else looking to open up a coffee shop in Toronto."
        },
        {
            "cell_type": "markdown",
            "metadata": {},
            "source": "### Data"
        },
        {
            "cell_type": "markdown",
            "metadata": {},
            "source": "First we will define the criteria based on Jane Doe's preferences:\n1. Little competition: Few coffee shops and/or with low review scores.\n2. Similar \"feel\" to Soho (New York City): Similar venues.\n3. In the central Toronto area: Boroughs with \"Toronto\" in the name (e.g. Downtown Toronto, East Toronto, Central Toronto).\n\nThe data required will be retrieved from the following sources:\n1. Toronto postal codes, boroughs and neighbourhoods: https://en.wikipedia.org/wiki/List_of_postal_codes_of_Canada:_M\n2. Toronto postal codes latitude & longitude: \"Geospatial Coordinates.csv\" from https://cocl.us/Geospatial_data\n3. New York boroughs, neighbourhoods, latitude and longitude: \"newyork_data.json\" from https://cocl.us/new_york_dataset\n4. Venues by neighbourhood (both Soho, Manhattan and Toronto noghbourhoods) + review scores: https://api.foursquare.com (API)\n\nOnce we have the data we will need to load each one into a dataframe and clean it (e.g. remove NaN's), after which we will need to join 1 and 2 to have a list of Toronto neighbourhoods with their borough and coordinates to match the New York data from 3.\n\nAfter that is done, we will merge 1+2 on one hand and 3 on the other with the respective foursquare venue data, to end up with two datasets, one for Toronto and one for New York (Soho).\n\nOnce the datasets are processed we will:\n1. Compare the neighbourhood venues in Toronto to New York (Soho) and find the closest matches.\n2. Determine the Toronto neighbourhoods with fewest coffee shops, weighted based on the review scores.\n3. Plot the two groups against each other to find the best match(es)."
        },
        {
            "cell_type": "code",
            "execution_count": null,
            "metadata": {},
            "outputs": [],
            "source": ""
        }
    ],
    "metadata": {
        "kernelspec": {
            "display_name": "Python 3.6",
            "language": "python",
            "name": "python3"
        },
        "language_info": {
            "codemirror_mode": {
                "name": "ipython",
                "version": 3
            },
            "file_extension": ".py",
            "mimetype": "text/x-python",
            "name": "python",
            "nbconvert_exporter": "python",
            "pygments_lexer": "ipython3",
            "version": "3.6.9"
        }
    },
    "nbformat": 4,
    "nbformat_minor": 1
}